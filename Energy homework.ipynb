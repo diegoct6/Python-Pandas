{
 "cells": [
  {
   "cell_type": "markdown",
   "metadata": {},
   "source": [
    "# Energy in Spain: dataset"
   ]
  },
  {
   "cell_type": "markdown",
   "metadata": {},
   "source": [
    "The \"energy.csv\" dataset contains timeseries regarding the power market in Spain.\n",
    "\n",
    "Explanation of columns:\n",
    "* datetime: moment at which the observation happened, in UTC (https://en.wikipedia.org/wiki/Coordinated_Universal_Time)\n",
    "* power_demand: total consumption of electricity in MWh (MegaWatt-hours) [consumption]\n",
    "* nuclear: total energy generated in nuclear power plants in MWh [power generation]\n",
    "* gas: total energy generated in gas powered plants in MWh [power generation]\n",
    "* solar: total energy generated in solar farms in MWh [power generation]\n",
    "* hydro: total energy generated in hydro dams in MWh [power generation]\n",
    "* coal: total energy generated in coal powered plants in MWh [power generation]\n",
    "* wind: total energy generated in wind farms in MWh [power generation]\n",
    "* spot_price: price at which the energy is sold (generation) or bought (consumption) in €/MWh [price]"
   ]
  },
  {
   "cell_type": "markdown",
   "metadata": {},
   "source": [
    "### Import needed libraries"
   ]
  },
  {
   "cell_type": "code",
   "execution_count": 1,
   "metadata": {},
   "outputs": [],
   "source": [
    "import pandas as pd\n",
    "import numpy as np\n",
    "import matplotlib.pyplot as plt\n",
    "%matplotlib inline\n",
    "\n",
    "from datetime import date, datetime"
   ]
  },
  {
   "cell_type": "markdown",
   "metadata": {},
   "source": [
    "### Get the data as a pandas Dataframe"
   ]
  },
  {
   "cell_type": "code",
   "execution_count": 2,
   "metadata": {},
   "outputs": [],
   "source": [
    "energy = pd.read_csv(\"energy.csv\", sep=\",\")"
   ]
  },
  {
   "cell_type": "markdown",
   "metadata": {},
   "source": [
    "### Calculate the following"
   ]
  },
  {
   "cell_type": "markdown",
   "metadata": {},
   "source": [
    "#### Shape (1 p)"
   ]
  },
  {
   "cell_type": "code",
   "execution_count": 3,
   "metadata": {},
   "outputs": [
    {
     "data": {
      "text/plain": [
       "(8737, 9)"
      ]
     },
     "execution_count": 3,
     "metadata": {},
     "output_type": "execute_result"
    }
   ],
   "source": [
    "energy.shape"
   ]
  },
  {
   "cell_type": "markdown",
   "metadata": {},
   "source": [
    "#### Create a list called \"features\" containing all the columns that are not \"datetime\" (1 p)"
   ]
  },
  {
   "cell_type": "code",
   "execution_count": 4,
   "metadata": {},
   "outputs": [
    {
     "data": {
      "text/plain": [
       "['power_demand',\n",
       " 'nuclear',\n",
       " 'gas',\n",
       " 'solar',\n",
       " 'hydro',\n",
       " 'coal',\n",
       " 'wind',\n",
       " 'spot_price']"
      ]
     },
     "execution_count": 4,
     "metadata": {},
     "output_type": "execute_result"
    }
   ],
   "source": [
    "# use filter or list comprehensions or for loops or dark magic\n",
    "features= energy.columns[energy.columns!='datetime'].tolist()\n",
    "features"
   ]
  },
  {
   "cell_type": "markdown",
   "metadata": {},
   "source": [
    "#### How many NaN are there in the dataset? (1 p)"
   ]
  },
  {
   "cell_type": "code",
   "execution_count": 5,
   "metadata": {
    "ExecuteTime": {
     "end_time": "2020-03-06T20:54:32.613280Z",
     "start_time": "2020-03-06T20:54:32.609720Z"
    }
   },
   "outputs": [
    {
     "data": {
      "text/plain": [
       "2541"
      ]
     },
     "execution_count": 5,
     "metadata": {},
     "output_type": "execute_result"
    }
   ],
   "source": [
    "# \"Dealing with missing values\" in the slides\n",
    "energy.isnull().sum().sum()"
   ]
  },
  {
   "cell_type": "markdown",
   "metadata": {},
   "source": [
    "#### Convert the \"datetime\" column into a Series containing datetime objects (0.5 p)\n",
    "\n",
    "Pass utc=True as argument to your function of choice *cough* pd.to_dat... *cough*"
   ]
  },
  {
   "cell_type": "code",
   "execution_count": 6,
   "metadata": {},
   "outputs": [],
   "source": [
    "# pandas datetime functionalities\n",
    "energy[\"datetime\"]= pd.to_datetime(energy[\"datetime\"],utc=True)"
   ]
  },
  {
   "cell_type": "markdown",
   "metadata": {
    "ExecuteTime": {
     "end_time": "2020-03-06T21:06:59.967351Z",
     "start_time": "2020-03-06T21:06:59.960999Z"
    }
   },
   "source": [
    "#### Create the following columns (0.5 p)\n",
    "* year\n",
    "* month\n",
    "* day\n",
    "* hour\n",
    "* weekday"
   ]
  },
  {
   "cell_type": "code",
   "execution_count": 7,
   "metadata": {},
   "outputs": [],
   "source": [
    "# pandas datetime functionalities\n",
    "energy[\"year\"] = energy[\"datetime\"].dt.year\n",
    "energy[\"month\"] = energy[\"datetime\"].dt.month\n",
    "energy[\"day\"] = energy[\"datetime\"].dt.day\n",
    "energy[\"hour\"] =  energy[\"datetime\"].dt.hour\n",
    "energy[\"weekday\"] = energy[\"datetime\"].dt.weekday"
   ]
  },
  {
   "cell_type": "markdown",
   "metadata": {},
   "source": [
    "#### Create a \"weekend\" column containing True if day is Sat/Sun or False if day is Mon/Tue/... (1 p)"
   ]
  },
  {
   "cell_type": "code",
   "execution_count": 8,
   "metadata": {
    "ExecuteTime": {
     "end_time": "2020-03-06T21:11:01.576113Z",
     "start_time": "2020-03-06T21:11:01.572485Z"
    }
   },
   "outputs": [],
   "source": [
    "# feature engineering\n",
    "# use your already beloved (map + lambda functions)\n",
    "# or list comprehensions\n",
    "energy[\"weekend\"] = energy[\"weekday\"].map(lambda x: True if(x>4) else False)"
   ]
  },
  {
   "cell_type": "markdown",
   "metadata": {},
   "source": [
    "#### Calculate the average values per weekday for the columns in \"features\" list (1 p)"
   ]
  },
  {
   "cell_type": "code",
   "execution_count": 9,
   "metadata": {
    "ExecuteTime": {
     "end_time": "2020-03-06T21:16:03.022096Z",
     "start_time": "2020-03-06T21:16:03.018931Z"
    }
   },
   "outputs": [
    {
     "data": {
      "text/html": [
       "<div>\n",
       "<style scoped>\n",
       "    .dataframe tbody tr th:only-of-type {\n",
       "        vertical-align: middle;\n",
       "    }\n",
       "\n",
       "    .dataframe tbody tr th {\n",
       "        vertical-align: top;\n",
       "    }\n",
       "\n",
       "    .dataframe thead th {\n",
       "        text-align: right;\n",
       "    }\n",
       "</style>\n",
       "<table border=\"1\" class=\"dataframe\">\n",
       "  <thead>\n",
       "    <tr style=\"text-align: right;\">\n",
       "      <th></th>\n",
       "      <th>power_demand</th>\n",
       "      <th>nuclear</th>\n",
       "      <th>gas</th>\n",
       "      <th>solar</th>\n",
       "      <th>hydro</th>\n",
       "      <th>coal</th>\n",
       "      <th>wind</th>\n",
       "      <th>spot_price</th>\n",
       "    </tr>\n",
       "    <tr>\n",
       "      <th>weekday</th>\n",
       "      <th></th>\n",
       "      <th></th>\n",
       "      <th></th>\n",
       "      <th></th>\n",
       "      <th></th>\n",
       "      <th></th>\n",
       "      <th></th>\n",
       "      <th></th>\n",
       "    </tr>\n",
       "  </thead>\n",
       "  <tbody>\n",
       "    <tr>\n",
       "      <th>0</th>\n",
       "      <td>29207.582306</td>\n",
       "      <td>6390.911769</td>\n",
       "      <td>6483.540032</td>\n",
       "      <td>1382.902420</td>\n",
       "      <td>2919.916173</td>\n",
       "      <td>1282.017737</td>\n",
       "      <td>5846.823379</td>\n",
       "      <td>49.239688</td>\n",
       "    </tr>\n",
       "    <tr>\n",
       "      <th>1</th>\n",
       "      <td>29760.259375</td>\n",
       "      <td>6391.128526</td>\n",
       "      <td>6716.402003</td>\n",
       "      <td>1400.603377</td>\n",
       "      <td>2870.550401</td>\n",
       "      <td>1478.384477</td>\n",
       "      <td>5795.669712</td>\n",
       "      <td>50.202580</td>\n",
       "    </tr>\n",
       "    <tr>\n",
       "      <th>2</th>\n",
       "      <td>29814.897436</td>\n",
       "      <td>6399.605689</td>\n",
       "      <td>6448.102244</td>\n",
       "      <td>1386.101098</td>\n",
       "      <td>2856.419471</td>\n",
       "      <td>1444.195997</td>\n",
       "      <td>6451.173798</td>\n",
       "      <td>48.811442</td>\n",
       "    </tr>\n",
       "    <tr>\n",
       "      <th>3</th>\n",
       "      <td>29913.133253</td>\n",
       "      <td>6408.186458</td>\n",
       "      <td>6404.798397</td>\n",
       "      <td>1396.425420</td>\n",
       "      <td>2904.324439</td>\n",
       "      <td>1364.827287</td>\n",
       "      <td>6452.391747</td>\n",
       "      <td>48.817388</td>\n",
       "    </tr>\n",
       "    <tr>\n",
       "      <th>4</th>\n",
       "      <td>29587.505689</td>\n",
       "      <td>6404.227003</td>\n",
       "      <td>6362.183894</td>\n",
       "      <td>1437.464229</td>\n",
       "      <td>3027.978526</td>\n",
       "      <td>1294.994618</td>\n",
       "      <td>6071.198638</td>\n",
       "      <td>48.785793</td>\n",
       "    </tr>\n",
       "    <tr>\n",
       "      <th>5</th>\n",
       "      <td>26545.257933</td>\n",
       "      <td>6325.359535</td>\n",
       "      <td>4965.318109</td>\n",
       "      <td>1418.782988</td>\n",
       "      <td>2604.202644</td>\n",
       "      <td>1057.801583</td>\n",
       "      <td>5826.916346</td>\n",
       "      <td>45.429864</td>\n",
       "    </tr>\n",
       "    <tr>\n",
       "      <th>6</th>\n",
       "      <td>24759.381490</td>\n",
       "      <td>6353.419231</td>\n",
       "      <td>4089.475000</td>\n",
       "      <td>1373.876790</td>\n",
       "      <td>2439.531651</td>\n",
       "      <td>912.083292</td>\n",
       "      <td>6061.215064</td>\n",
       "      <td>42.653966</td>\n",
       "    </tr>\n",
       "  </tbody>\n",
       "</table>\n",
       "</div>"
      ],
      "text/plain": [
       "         power_demand      nuclear          gas        solar        hydro  \\\n",
       "weekday                                                                     \n",
       "0        29207.582306  6390.911769  6483.540032  1382.902420  2919.916173   \n",
       "1        29760.259375  6391.128526  6716.402003  1400.603377  2870.550401   \n",
       "2        29814.897436  6399.605689  6448.102244  1386.101098  2856.419471   \n",
       "3        29913.133253  6408.186458  6404.798397  1396.425420  2904.324439   \n",
       "4        29587.505689  6404.227003  6362.183894  1437.464229  3027.978526   \n",
       "5        26545.257933  6325.359535  4965.318109  1418.782988  2604.202644   \n",
       "6        24759.381490  6353.419231  4089.475000  1373.876790  2439.531651   \n",
       "\n",
       "                coal         wind  spot_price  \n",
       "weekday                                        \n",
       "0        1282.017737  5846.823379   49.239688  \n",
       "1        1478.384477  5795.669712   50.202580  \n",
       "2        1444.195997  6451.173798   48.811442  \n",
       "3        1364.827287  6452.391747   48.817388  \n",
       "4        1294.994618  6071.198638   48.785793  \n",
       "5        1057.801583  5826.916346   45.429864  \n",
       "6         912.083292  6061.215064   42.653966  "
      ]
     },
     "execution_count": 9,
     "metadata": {},
     "output_type": "execute_result"
    }
   ],
   "source": [
    "# features is the list you created in the beginning\n",
    "energy.groupby('weekday')[features].mean()"
   ]
  },
  {
   "cell_type": "markdown",
   "metadata": {},
   "source": [
    "#### Create a function that returns the season out of a datetime object (0.5 p)\n",
    "Use that function to create a \"season\" column"
   ]
  },
  {
   "cell_type": "code",
   "execution_count": 10,
   "metadata": {
    "ExecuteTime": {
     "end_time": "2020-03-06T21:20:10.045629Z",
     "start_time": "2020-03-06T21:20:10.035835Z"
    }
   },
   "outputs": [],
   "source": [
    "def get_season(date_to_convert):\n",
    "    year = date_to_convert.year\n",
    "    seasons = [\n",
    "        (\"winter\", date(year, 12, 21), date(year, 12, 31)),\n",
    "        (\"summer\", date(year, 6, 21), date(year, 9, 20)),\n",
    "        (\"fall\", date(year, 9, 21), date(year, 12, 20)),\n",
    "        (\"winter\", date(year, 1, 1), date(year, 3, 20)),\n",
    "        (\"spring\", date(year, 3, 21), date(year, 6, 20))\n",
    "    ]\n",
    "    \n",
    "    for season in seasons:\n",
    "        if date_to_convert>=season[1] and date_to_convert<=season[2]:\n",
    "            return season[0]\n",
    "        \n",
    "energy[\"season\"] = energy[\"datetime\"].map(get_season)\n"
   ]
  },
  {
   "cell_type": "markdown",
   "metadata": {},
   "source": [
    "#### Calculate average demand and spot_price for each season (1 p)"
   ]
  },
  {
   "cell_type": "code",
   "execution_count": 11,
   "metadata": {},
   "outputs": [],
   "source": [
    "# seasons = {1:\"winter\",2:\"winter\",3:\"spring\",4:\"spring\",5:\"spring\",6:\"summer\",7:\"summer\",8:\"summer\",9:\"fall\",10:\"fall\",11:\"fall\",12:\"winter\"}\n",
    "# energy['seasons'] = energy['month'].map(seasons)"
   ]
  },
  {
   "cell_type": "code",
   "execution_count": 12,
   "metadata": {},
   "outputs": [
    {
     "data": {
      "text/html": [
       "<div>\n",
       "<style scoped>\n",
       "    .dataframe tbody tr th:only-of-type {\n",
       "        vertical-align: middle;\n",
       "    }\n",
       "\n",
       "    .dataframe tbody tr th {\n",
       "        vertical-align: top;\n",
       "    }\n",
       "\n",
       "    .dataframe thead th {\n",
       "        text-align: right;\n",
       "    }\n",
       "</style>\n",
       "<table border=\"1\" class=\"dataframe\">\n",
       "  <thead>\n",
       "    <tr style=\"text-align: right;\">\n",
       "      <th></th>\n",
       "      <th>power_demand</th>\n",
       "      <th>spot_price</th>\n",
       "    </tr>\n",
       "    <tr>\n",
       "      <th>season</th>\n",
       "      <th></th>\n",
       "      <th></th>\n",
       "    </tr>\n",
       "  </thead>\n",
       "  <tbody>\n",
       "    <tr>\n",
       "      <th>fall</th>\n",
       "      <td>28212.959478</td>\n",
       "      <td>43.511058</td>\n",
       "    </tr>\n",
       "    <tr>\n",
       "      <th>spring</th>\n",
       "      <td>27112.771332</td>\n",
       "      <td>48.808877</td>\n",
       "    </tr>\n",
       "    <tr>\n",
       "      <th>summer</th>\n",
       "      <td>29269.888179</td>\n",
       "      <td>46.598832</td>\n",
       "    </tr>\n",
       "    <tr>\n",
       "      <th>winter</th>\n",
       "      <td>29482.937623</td>\n",
       "      <td>51.997609</td>\n",
       "    </tr>\n",
       "  </tbody>\n",
       "</table>\n",
       "</div>"
      ],
      "text/plain": [
       "        power_demand  spot_price\n",
       "season                          \n",
       "fall    28212.959478   43.511058\n",
       "spring  27112.771332   48.808877\n",
       "summer  29269.888179   46.598832\n",
       "winter  29482.937623   51.997609"
      ]
     },
     "execution_count": 12,
     "metadata": {},
     "output_type": "execute_result"
    }
   ],
   "source": [
    "energy.groupby('season')['power_demand','spot_price'].mean()"
   ]
  },
  {
   "cell_type": "markdown",
   "metadata": {},
   "source": [
    "#### Why are there so many NaN values in the \"solar\" column? (0.5 p - extra)"
   ]
  },
  {
   "cell_type": "code",
   "execution_count": 13,
   "metadata": {},
   "outputs": [
    {
     "name": "stdout",
     "output_type": "stream",
     "text": [
      "The proportion of NaN in Solar is 27.38% , if we analyze it by hour:\n",
      "the NAN are associated with night,sunrising and sunset hours\n"
     ]
    },
    {
     "data": {
      "text/plain": [
       "hour\n",
       "1     305\n",
       "2     304\n",
       "23    301\n",
       "0     295\n",
       "3     287\n",
       "22    271\n",
       "21    214\n",
       "20    159\n",
       "4     158\n",
       "19     65\n",
       "18     17\n",
       "5      16\n",
       "Name: datetime, dtype: int64"
      ]
     },
     "execution_count": 13,
     "metadata": {},
     "output_type": "execute_result"
    }
   ],
   "source": [
    "NaNSolar= round(energy['solar'].isnull().mean()*100,2)\n",
    "print(f\"The proportion of NaN in Solar is {NaNSolar}% , if we analyze it by hour:\")\n",
    "print(\"the NAN are associated with night,sunrising and sunset hours\")\n",
    "energy[energy['solar'].isnull()].groupby('hour').count().iloc[:,0].sort_values(ascending=False)"
   ]
  },
  {
   "cell_type": "markdown",
   "metadata": {},
   "source": [
    "#### Calculate the total income for each type of power generation and total costs for consumption (4 p) \n",
    "Return a dictionary like the following one:\n",
    "\n",
    "{ \"consumption\": cost_consumption, \"wind\": income_wind, \"solar\": income_solar, \"gas\": income_gas, ...} "
   ]
  },
  {
   "cell_type": "code",
   "execution_count": 14,
   "metadata": {
    "ExecuteTime": {
     "end_time": "2020-03-06T21:55:22.636499Z",
     "start_time": "2020-03-06T21:55:22.633967Z"
    }
   },
   "outputs": [
    {
     "data": {
      "text/plain": [
       "{'consumption': 12115827296.223953,\n",
       " 'nuclear': 2674992442.1679893,\n",
       " 'gas': 2577997502.6389947,\n",
       " 'solar': 430157479.7849997,\n",
       " 'hydro': 1179143190.6960022,\n",
       " 'coal': 591516973.3599987,\n",
       " 'wind': 2412917661.564993}"
      ]
     },
     "execution_count": 14,
     "metadata": {},
     "output_type": "execute_result"
    }
   ],
   "source": [
    "# Income = energy_generated * price\n",
    "# Cost = energy_bought * price\n",
    "Dictionary = (\n",
    "    energy[features[:-1]]\n",
    "    .multiply(energy['spot_price'],axis='index')\n",
    "    .rename(columns={'power_demand': 'consumption'})\n",
    "    .sum().to_dict()\n",
    ")\n",
    "Dictionary\n"
   ]
  },
  {
   "cell_type": "markdown",
   "metadata": {},
   "source": [
    "#### Create two plots: (2 p)\n",
    "* Hourly average power demand\n",
    "* Hourly average spot price"
   ]
  },
  {
   "cell_type": "code",
   "execution_count": 15,
   "metadata": {},
   "outputs": [
    {
     "data": {
      "text/plain": [
       "<matplotlib.axes._subplots.AxesSubplot at 0x116969f50>"
      ]
     },
     "execution_count": 15,
     "metadata": {},
     "output_type": "execute_result"
    },
    {
     "data": {
      "image/png": "[encoded data removed]",
      "text/plain": [
       "<Figure size 720x288 with 1 Axes>"
      ]
     },
     "metadata": {
      "needs_background": "light"
     },
     "output_type": "display_data"
    }
   ],
   "source": [
    "# Hourly average power demand\n",
    "energy.groupby(\"hour\").mean()[[\"power_demand\"]].plot(figsize=(10, 4))"
   ]
  },
  {
   "cell_type": "code",
   "execution_count": 16,
   "metadata": {},
   "outputs": [
    {
     "data": {
      "text/plain": [
       "<matplotlib.axes._subplots.AxesSubplot at 0x1175e55d0>"
      ]
     },
     "execution_count": 16,
     "metadata": {},
     "output_type": "execute_result"
    },
    {
     "data": {
      "image/png": "[encoded data removed]",
      "text/plain": [
       "<Figure size 720x288 with 1 Axes>"
      ]
     },
     "metadata": {
      "needs_background": "light"
     },
     "output_type": "display_data"
    }
   ],
   "source": [
    "# Hourly average spot price\n",
    "energy.groupby(\"hour\").mean()[[\"spot_price\"]].plot(figsize=(10, 4))"
   ]
  },
  {
   "cell_type": "markdown",
   "metadata": {
    "ExecuteTime": {
     "end_time": "2020-03-06T21:37:24.835762Z",
     "start_time": "2020-03-06T21:37:24.831582Z"
    }
   },
   "source": [
    "#### Create a categorical variable called \"wind_category\" using the \"wind\" column (2 p)\n",
    "Create 3 categories: low, mid, high"
   ]
  },
  {
   "cell_type": "code",
   "execution_count": 17,
   "metadata": {},
   "outputs": [
    {
     "data": {
      "text/plain": [
       "low     5140\n",
       "mid     2907\n",
       "high     690\n",
       "Name: wind_category, dtype: int64"
      ]
     },
     "execution_count": 17,
     "metadata": {},
     "output_type": "execute_result"
    }
   ],
   "source": [
    "energy[\"wind_category\"] = pd.cut(energy[\"wind\"],bins=3,labels=['low','mid','high'])\n",
    "energy[\"wind_category\"].value_counts()"
   ]
  },
  {
   "cell_type": "markdown",
   "metadata": {},
   "source": [
    "#### Which is the power generation type that has generated the most energy? And the least? (2 p)"
   ]
  },
  {
   "cell_type": "code",
   "execution_count": 18,
   "metadata": {},
   "outputs": [
    {
     "name": "stdout",
     "output_type": "stream",
     "text": [
      " The nuclear type has generated the most energy with total: 55758093.0 MWh\n"
     ]
    }
   ],
   "source": [
    "# The most energy\n",
    "index = energy[features[1:-1]].sum().idxmax()\n",
    "value=  round(energy[features[1:-1]].sum().max(),2)\n",
    "print(f\" The {index} type has generated the most energy with total: {value} MWh\")"
   ]
  },
  {
   "cell_type": "code",
   "execution_count": 19,
   "metadata": {},
   "outputs": [
    {
     "name": "stdout",
     "output_type": "stream",
     "text": [
      " The solar type has generated the least energy with total: 8878077.8 MWh\n"
     ]
    }
   ],
   "source": [
    "# The least energy\n",
    "index = energy[features[1:-1]].sum().idxmin()\n",
    "value=  round(energy[features[1:-1]].sum().min(),2)\n",
    "print(f\" The {index} type has generated the least energy with total: {value} MWh\")"
   ]
  }
 ],
 "metadata": {
  "kernelspec": {
   "display_name": "Python 3",
   "language": "python",
   "name": "python3"
  },
  "language_info": {
   "codemirror_mode": {
    "name": "ipython",
    "version": 3
   },
   "file_extension": ".py",
   "mimetype": "text/x-python",
   "name": "python",
   "nbconvert_exporter": "python",
   "pygments_lexer": "ipython3",
   "version": "3.7.6"
  },
  "toc": {
   "base_numbering": 1,
   "nav_menu": {},
   "number_sections": true,
   "sideBar": true,
   "skip_h1_title": false,
   "title_cell": "Table of Contents",
   "title_sidebar": "Contents",
   "toc_cell": false,
   "toc_position": {},
   "toc_section_display": true,
   "toc_window_display": false
  }
 },
 "nbformat": 4,
 "nbformat_minor": 2
}
