{
 "cells": [
  {
   "cell_type": "markdown",
   "metadata": {},
   "source": [
    "\n",
    "### Imports"
   ]
  },
  {
   "cell_type": "code",
   "execution_count": 1,
   "metadata": {
    "ExecuteTime": {
     "end_time": "2020-03-02T19:00:46.738559Z",
     "start_time": "2020-03-02T19:00:46.734652Z"
    }
   },
   "outputs": [],
   "source": [
    "import pandas as pd\n",
    "import numpy as np\n",
    "from datetime import datetime\n",
    "import json\n",
    "import matplotlib.pyplot as plt\n",
    "import os"
   ]
  },
  {
   "cell_type": "markdown",
   "metadata": {},
   "source": [
    "### Let's see what's in the folder Spotify sends"
   ]
  },
  {
   "cell_type": "code",
   "execution_count": 2,
   "metadata": {
    "ExecuteTime": {
     "end_time": "2020-03-02T17:48:41.852330Z",
     "start_time": "2020-03-02T17:48:41.845116Z"
    }
   },
   "outputs": [
    {
     "data": {
      "text/plain": [
       "['Follow.json',\n",
       " '.DS_Store',\n",
       " 'StreamingHistory2.json',\n",
       " 'Userdata.json',\n",
       " 'StreamingHistory3.json',\n",
       " 'StreamingHistory0.json',\n",
       " 'YourLibrary.json',\n",
       " 'StreamingHistory1.json',\n",
       " 'madpeople.tsv']"
      ]
     },
     "execution_count": 2,
     "metadata": {},
     "output_type": "execute_result"
    }
   ],
   "source": [
    "spotify_data = \"./spotify_data/\"\n",
    "\n",
    "files = os.listdir(spotify_data)\n",
    "\n",
    "files"
   ]
  },
  {
   "cell_type": "markdown",
   "metadata": {},
   "source": [
    "### JSON reader function"
   ]
  },
  {
   "cell_type": "code",
   "execution_count": 3,
   "metadata": {
    "ExecuteTime": {
     "end_time": "2020-03-02T19:37:44.175380Z",
     "start_time": "2020-03-02T19:37:44.170348Z"
    }
   },
   "outputs": [],
   "source": [
    "def load_json(json_filename):\n",
    "    with open(json_filename, encoding=\"utf8\") as f:\n",
    "        dict_from_json = json.loads(f.read())\n",
    "    return dict_from_json\n",
    "\n",
    "def json_to_df(json_filename):\n",
    "    json_file = load_json(json_filename)\n",
    "    return pd.DataFrame(json_file)"
   ]
  },
  {
   "cell_type": "markdown",
   "metadata": {},
   "source": [
    "### Check that it's my stuff\n",
    "\n",
    "Also define a function to read json files as Python dictionaries"
   ]
  },
  {
   "cell_type": "code",
   "execution_count": 4,
   "metadata": {
    "ExecuteTime": {
     "end_time": "2020-03-02T17:53:19.524444Z",
     "start_time": "2020-03-02T17:53:19.518141Z"
    }
   },
   "outputs": [
    {
     "data": {
      "text/plain": [
       "{'username': 'dgarhdez',\n",
       " 'email': 'dgarhdez@gmail.com',\n",
       " 'country': 'ES',\n",
       " 'createdFromFacebook': False,\n",
       " 'facebookUid': None,\n",
       " 'birthdate': '1987-12-17',\n",
       " 'gender': 'male',\n",
       " 'postalCode': '28729',\n",
       " 'mobileNumber': None,\n",
       " 'mobileOperator': None,\n",
       " 'mobileBrand': None,\n",
       " 'creationTime': '2009-05-26'}"
      ]
     },
     "execution_count": 4,
     "metadata": {},
     "output_type": "execute_result"
    }
   ],
   "source": [
    "userdata = load_json(spotify_data + \"Userdata.json\")\n",
    "\n",
    "userdata"
   ]
  },
  {
   "cell_type": "markdown",
   "metadata": {},
   "source": [
    "### Load streaming history as a single dataframe"
   ]
  },
  {
   "cell_type": "code",
   "execution_count": 5,
   "metadata": {
    "ExecuteTime": {
     "end_time": "2020-03-02T18:52:41.857353Z",
     "start_time": "2020-03-02T18:52:41.851274Z"
    }
   },
   "outputs": [
    {
     "data": {
      "text/plain": [
       "['StreamingHistory2.json',\n",
       " 'StreamingHistory3.json',\n",
       " 'StreamingHistory0.json',\n",
       " 'StreamingHistory1.json']"
      ]
     },
     "execution_count": 5,
     "metadata": {},
     "output_type": "execute_result"
    }
   ],
   "source": [
    "# create a list of my streaming history files\n",
    "streaming_history = [file for file in files if \"StreamingHistory\" in file]\n",
    "\n",
    "streaming_history"
   ]
  },
  {
   "cell_type": "code",
   "execution_count": 6,
   "metadata": {
    "ExecuteTime": {
     "end_time": "2020-03-02T19:10:32.079330Z",
     "start_time": "2020-03-02T19:10:31.867564Z"
    }
   },
   "outputs": [
    {
     "data": {
      "text/html": [
       "<div>\n",
       "<style scoped>\n",
       "    .dataframe tbody tr th:only-of-type {\n",
       "        vertical-align: middle;\n",
       "    }\n",
       "\n",
       "    .dataframe tbody tr th {\n",
       "        vertical-align: top;\n",
       "    }\n",
       "\n",
       "    .dataframe thead th {\n",
       "        text-align: right;\n",
       "    }\n",
       "</style>\n",
       "<table border=\"1\" class=\"dataframe\">\n",
       "  <thead>\n",
       "    <tr style=\"text-align: right;\">\n",
       "      <th></th>\n",
       "      <th>endTime</th>\n",
       "      <th>artistName</th>\n",
       "      <th>trackName</th>\n",
       "      <th>msPlayed</th>\n",
       "    </tr>\n",
       "  </thead>\n",
       "  <tbody>\n",
       "    <tr>\n",
       "      <th>0</th>\n",
       "      <td>2018-12-29 13:29</td>\n",
       "      <td>Jeff Buckley</td>\n",
       "      <td>Everybody Here Wants You</td>\n",
       "      <td>195299</td>\n",
       "    </tr>\n",
       "    <tr>\n",
       "      <th>1</th>\n",
       "      <td>2018-12-29 13:33</td>\n",
       "      <td>Future Islands</td>\n",
       "      <td>Time On Her Side</td>\n",
       "      <td>218506</td>\n",
       "    </tr>\n",
       "    <tr>\n",
       "      <th>2</th>\n",
       "      <td>2018-12-29 13:35</td>\n",
       "      <td>The Whitest Boy Alive</td>\n",
       "      <td>Burning</td>\n",
       "      <td>144044</td>\n",
       "    </tr>\n",
       "    <tr>\n",
       "      <th>3</th>\n",
       "      <td>2018-12-29 13:36</td>\n",
       "      <td>The Whitest Boy Alive</td>\n",
       "      <td>Burning</td>\n",
       "      <td>47144</td>\n",
       "    </tr>\n",
       "    <tr>\n",
       "      <th>4</th>\n",
       "      <td>2018-12-29 13:41</td>\n",
       "      <td>Cut Copy</td>\n",
       "      <td>Take Me Over</td>\n",
       "      <td>248289</td>\n",
       "    </tr>\n",
       "    <tr>\n",
       "      <th>...</th>\n",
       "      <td>...</td>\n",
       "      <td>...</td>\n",
       "      <td>...</td>\n",
       "      <td>...</td>\n",
       "    </tr>\n",
       "    <tr>\n",
       "      <th>30161</th>\n",
       "      <td>2019-12-29 12:47</td>\n",
       "      <td>El Palacio de Linares</td>\n",
       "      <td>Ciervo y Erizo</td>\n",
       "      <td>149266</td>\n",
       "    </tr>\n",
       "    <tr>\n",
       "      <th>30162</th>\n",
       "      <td>2019-12-29 12:48</td>\n",
       "      <td>Los Chikos del Maiz</td>\n",
       "      <td>Grupo Salvaje</td>\n",
       "      <td>19772</td>\n",
       "    </tr>\n",
       "    <tr>\n",
       "      <th>30163</th>\n",
       "      <td>2019-12-29 13:00</td>\n",
       "      <td>Los Chikos del Maiz</td>\n",
       "      <td>Grupo Salvaje</td>\n",
       "      <td>169087</td>\n",
       "    </tr>\n",
       "    <tr>\n",
       "      <th>30164</th>\n",
       "      <td>2019-12-29 13:03</td>\n",
       "      <td>John Grant</td>\n",
       "      <td>GMF</td>\n",
       "      <td>181394</td>\n",
       "    </tr>\n",
       "    <tr>\n",
       "      <th>30165</th>\n",
       "      <td>2019-12-29 13:05</td>\n",
       "      <td>Cecilio G.</td>\n",
       "      <td>Million Dollar Baby</td>\n",
       "      <td>119048</td>\n",
       "    </tr>\n",
       "  </tbody>\n",
       "</table>\n",
       "<p>30166 rows × 4 columns</p>\n",
       "</div>"
      ],
      "text/plain": [
       "                endTime             artistName                 trackName  \\\n",
       "0      2018-12-29 13:29           Jeff Buckley  Everybody Here Wants You   \n",
       "1      2018-12-29 13:33         Future Islands          Time On Her Side   \n",
       "2      2018-12-29 13:35  The Whitest Boy Alive                   Burning   \n",
       "3      2018-12-29 13:36  The Whitest Boy Alive                   Burning   \n",
       "4      2018-12-29 13:41               Cut Copy              Take Me Over   \n",
       "...                 ...                    ...                       ...   \n",
       "30161  2019-12-29 12:47  El Palacio de Linares            Ciervo y Erizo   \n",
       "30162  2019-12-29 12:48    Los Chikos del Maiz             Grupo Salvaje   \n",
       "30163  2019-12-29 13:00    Los Chikos del Maiz             Grupo Salvaje   \n",
       "30164  2019-12-29 13:03             John Grant                       GMF   \n",
       "30165  2019-12-29 13:05             Cecilio G.       Million Dollar Baby   \n",
       "\n",
       "       msPlayed  \n",
       "0        195299  \n",
       "1        218506  \n",
       "2        144044  \n",
       "3         47144  \n",
       "4        248289  \n",
       "...         ...  \n",
       "30161    149266  \n",
       "30162     19772  \n",
       "30163    169087  \n",
       "30164    181394  \n",
       "30165    119048  \n",
       "\n",
       "[30166 rows x 4 columns]"
      ]
     },
     "execution_count": 6,
     "metadata": {},
     "output_type": "execute_result"
    }
   ],
   "source": [
    "# load each file as dataframe and then concat\n",
    "list_df = []\n",
    "\n",
    "#list_df=[pd.DataFrame(load_json(spotify_data + item)) for item in streaming_history]\n",
    "\n",
    "for item in streaming_history:\n",
    "    item_dict = load_json(spotify_data + item)\n",
    "    item_df = pd.DataFrame(item_dict)\n",
    "    list_df.append(item_df)\n",
    "\n",
    "df_history = (\n",
    "    pd\n",
    "    .concat(list_df)  \n",
    "    .sort_values(by=\"endTime\")\n",
    "    .reset_index(drop=True)\n",
    ")\n",
    "\n",
    "df_history"
   ]
  },
  {
   "cell_type": "code",
   "execution_count": 7,
   "metadata": {
    "ExecuteTime": {
     "end_time": "2020-03-02T19:10:33.742125Z",
     "start_time": "2020-03-02T19:10:33.730726Z"
    }
   },
   "outputs": [
    {
     "data": {
      "text/plain": [
       "endTime       object\n",
       "artistName    object\n",
       "trackName     object\n",
       "msPlayed       int64\n",
       "dtype: object"
      ]
     },
     "execution_count": 7,
     "metadata": {},
     "output_type": "execute_result"
    }
   ],
   "source": [
    "df_history.dtypes"
   ]
  },
  {
   "cell_type": "code",
   "execution_count": 8,
   "metadata": {
    "ExecuteTime": {
     "end_time": "2020-03-02T20:17:11.517616Z",
     "start_time": "2020-03-02T20:17:11.457061Z"
    }
   },
   "outputs": [
    {
     "data": {
      "text/html": [
       "<div>\n",
       "<style scoped>\n",
       "    .dataframe tbody tr th:only-of-type {\n",
       "        vertical-align: middle;\n",
       "    }\n",
       "\n",
       "    .dataframe tbody tr th {\n",
       "        vertical-align: top;\n",
       "    }\n",
       "\n",
       "    .dataframe thead th {\n",
       "        text-align: right;\n",
       "    }\n",
       "</style>\n",
       "<table border=\"1\" class=\"dataframe\">\n",
       "  <thead>\n",
       "    <tr style=\"text-align: right;\">\n",
       "      <th></th>\n",
       "      <th>msPlayed</th>\n",
       "    </tr>\n",
       "  </thead>\n",
       "  <tbody>\n",
       "    <tr>\n",
       "      <th>count</th>\n",
       "      <td>3.016600e+04</td>\n",
       "    </tr>\n",
       "    <tr>\n",
       "      <th>mean</th>\n",
       "      <td>1.480600e+05</td>\n",
       "    </tr>\n",
       "    <tr>\n",
       "      <th>std</th>\n",
       "      <td>1.085951e+05</td>\n",
       "    </tr>\n",
       "    <tr>\n",
       "      <th>min</th>\n",
       "      <td>0.000000e+00</td>\n",
       "    </tr>\n",
       "    <tr>\n",
       "      <th>25%</th>\n",
       "      <td>5.009600e+04</td>\n",
       "    </tr>\n",
       "    <tr>\n",
       "      <th>50%</th>\n",
       "      <td>1.528260e+05</td>\n",
       "    </tr>\n",
       "    <tr>\n",
       "      <th>75%</th>\n",
       "      <td>2.198798e+05</td>\n",
       "    </tr>\n",
       "    <tr>\n",
       "      <th>max</th>\n",
       "      <td>1.812570e+06</td>\n",
       "    </tr>\n",
       "  </tbody>\n",
       "</table>\n",
       "</div>"
      ],
      "text/plain": [
       "           msPlayed\n",
       "count  3.016600e+04\n",
       "mean   1.480600e+05\n",
       "std    1.085951e+05\n",
       "min    0.000000e+00\n",
       "25%    5.009600e+04\n",
       "50%    1.528260e+05\n",
       "75%    2.198798e+05\n",
       "max    1.812570e+06"
      ]
     },
     "execution_count": 8,
     "metadata": {},
     "output_type": "execute_result"
    }
   ],
   "source": [
    "df_history.describe()"
   ]
  },
  {
   "cell_type": "code",
   "execution_count": 9,
   "metadata": {
    "ExecuteTime": {
     "end_time": "2020-03-02T20:17:27.222451Z",
     "start_time": "2020-03-02T20:17:27.206816Z"
    }
   },
   "outputs": [
    {
     "data": {
      "text/plain": [
       "endTime       0.0\n",
       "artistName    0.0\n",
       "trackName     0.0\n",
       "msPlayed      0.0\n",
       "dtype: float64"
      ]
     },
     "execution_count": 9,
     "metadata": {},
     "output_type": "execute_result"
    }
   ],
   "source": [
    "df_history.isnull().mean()"
   ]
  },
  {
   "cell_type": "markdown",
   "metadata": {},
   "source": [
    "### Work on endTime column and create more time-related variables"
   ]
  },
  {
   "cell_type": "code",
   "execution_count": 10,
   "metadata": {
    "ExecuteTime": {
     "end_time": "2020-03-02T19:10:36.290694Z",
     "start_time": "2020-03-02T19:10:35.702759Z"
    }
   },
   "outputs": [
    {
     "data": {
      "text/html": [
       "<div>\n",
       "<style scoped>\n",
       "    .dataframe tbody tr th:only-of-type {\n",
       "        vertical-align: middle;\n",
       "    }\n",
       "\n",
       "    .dataframe tbody tr th {\n",
       "        vertical-align: top;\n",
       "    }\n",
       "\n",
       "    .dataframe thead th {\n",
       "        text-align: right;\n",
       "    }\n",
       "</style>\n",
       "<table border=\"1\" class=\"dataframe\">\n",
       "  <thead>\n",
       "    <tr style=\"text-align: right;\">\n",
       "      <th></th>\n",
       "      <th>endTime</th>\n",
       "      <th>artistName</th>\n",
       "      <th>trackName</th>\n",
       "      <th>msPlayed</th>\n",
       "      <th>sec_played</th>\n",
       "      <th>sec_played_td</th>\n",
       "      <th>start_time</th>\n",
       "      <th>year</th>\n",
       "      <th>month</th>\n",
       "      <th>year_month</th>\n",
       "      <th>day</th>\n",
       "      <th>hour</th>\n",
       "      <th>weekday</th>\n",
       "      <th>weekend</th>\n",
       "    </tr>\n",
       "  </thead>\n",
       "  <tbody>\n",
       "    <tr>\n",
       "      <th>243</th>\n",
       "      <td>2018-12-31 18:37:00</td>\n",
       "      <td>Amy Winehouse</td>\n",
       "      <td>What Is It About Men</td>\n",
       "      <td>209560</td>\n",
       "      <td>210</td>\n",
       "      <td>00:03:30</td>\n",
       "      <td>2018-12-31 18:33:30</td>\n",
       "      <td>2018</td>\n",
       "      <td>12</td>\n",
       "      <td>2018_12</td>\n",
       "      <td>31</td>\n",
       "      <td>18</td>\n",
       "      <td>0</td>\n",
       "      <td>0</td>\n",
       "    </tr>\n",
       "    <tr>\n",
       "      <th>18108</th>\n",
       "      <td>2019-07-15 15:04:00</td>\n",
       "      <td>C. Tangana</td>\n",
       "      <td>Para Repartir</td>\n",
       "      <td>180868</td>\n",
       "      <td>181</td>\n",
       "      <td>00:03:01</td>\n",
       "      <td>2019-07-15 15:00:59</td>\n",
       "      <td>2019</td>\n",
       "      <td>7</td>\n",
       "      <td>2019_07</td>\n",
       "      <td>15</td>\n",
       "      <td>15</td>\n",
       "      <td>0</td>\n",
       "      <td>0</td>\n",
       "    </tr>\n",
       "    <tr>\n",
       "      <th>4511</th>\n",
       "      <td>2019-02-13 12:33:00</td>\n",
       "      <td>Ellos</td>\n",
       "      <td>Campeón</td>\n",
       "      <td>75121</td>\n",
       "      <td>75</td>\n",
       "      <td>00:01:15</td>\n",
       "      <td>2019-02-13 12:31:45</td>\n",
       "      <td>2019</td>\n",
       "      <td>2</td>\n",
       "      <td>2019_02</td>\n",
       "      <td>13</td>\n",
       "      <td>12</td>\n",
       "      <td>2</td>\n",
       "      <td>0</td>\n",
       "    </tr>\n",
       "    <tr>\n",
       "      <th>21905</th>\n",
       "      <td>2019-08-29 14:52:00</td>\n",
       "      <td>Tank and The Bangas</td>\n",
       "      <td>Hot Air Balloons</td>\n",
       "      <td>343320</td>\n",
       "      <td>343</td>\n",
       "      <td>00:05:43</td>\n",
       "      <td>2019-08-29 14:46:17</td>\n",
       "      <td>2019</td>\n",
       "      <td>8</td>\n",
       "      <td>2019_08</td>\n",
       "      <td>29</td>\n",
       "      <td>14</td>\n",
       "      <td>3</td>\n",
       "      <td>0</td>\n",
       "    </tr>\n",
       "    <tr>\n",
       "      <th>3612</th>\n",
       "      <td>2019-02-06 09:16:00</td>\n",
       "      <td>La Costa Brava</td>\n",
       "      <td>El Hombre Que Perdió los Papeles</td>\n",
       "      <td>1045</td>\n",
       "      <td>1</td>\n",
       "      <td>00:00:01</td>\n",
       "      <td>2019-02-06 09:15:59</td>\n",
       "      <td>2019</td>\n",
       "      <td>2</td>\n",
       "      <td>2019_02</td>\n",
       "      <td>6</td>\n",
       "      <td>9</td>\n",
       "      <td>2</td>\n",
       "      <td>0</td>\n",
       "    </tr>\n",
       "  </tbody>\n",
       "</table>\n",
       "</div>"
      ],
      "text/plain": [
       "                  endTime           artistName  \\\n",
       "243   2018-12-31 18:37:00        Amy Winehouse   \n",
       "18108 2019-07-15 15:04:00           C. Tangana   \n",
       "4511  2019-02-13 12:33:00                Ellos   \n",
       "21905 2019-08-29 14:52:00  Tank and The Bangas   \n",
       "3612  2019-02-06 09:16:00       La Costa Brava   \n",
       "\n",
       "                              trackName  msPlayed  sec_played sec_played_td  \\\n",
       "243                What Is It About Men    209560         210      00:03:30   \n",
       "18108                     Para Repartir    180868         181      00:03:01   \n",
       "4511                            Campeón     75121          75      00:01:15   \n",
       "21905                  Hot Air Balloons    343320         343      00:05:43   \n",
       "3612   El Hombre Que Perdió los Papeles      1045           1      00:00:01   \n",
       "\n",
       "               start_time  year  month year_month  day  hour  weekday  weekend  \n",
       "243   2018-12-31 18:33:30  2018     12    2018_12   31    18        0        0  \n",
       "18108 2019-07-15 15:00:59  2019      7    2019_07   15    15        0        0  \n",
       "4511  2019-02-13 12:31:45  2019      2    2019_02   13    12        2        0  \n",
       "21905 2019-08-29 14:46:17  2019      8    2019_08   29    14        3        0  \n",
       "3612  2019-02-06 09:15:59  2019      2    2019_02    6     9        2        0  "
      ]
     },
     "execution_count": 10,
     "metadata": {},
     "output_type": "execute_result"
    }
   ],
   "source": [
    "# convert msPlayed to seconds\n",
    "df_history[\"sec_played\"] = np.where(\n",
    "    df_history[\"msPlayed\"]>=1000,\n",
    "    np.round(df_history[\"msPlayed\"] / 1000, 0).astype(int),\n",
    "    1\n",
    ")\n",
    "\n",
    "# convert seconds to timedelta\n",
    "df_history[\"sec_played_td\"] = [pd.Timedelta(seconds=sec) for sec in df_history[\"sec_played\"]]\n",
    "\n",
    "# convert endTime to datetime object\n",
    "df_history[\"endTime\"] = pd.to_datetime(df_history[\"endTime\"])\n",
    "\n",
    "# substract sec_played to endTime to calculate start_time\n",
    "df_history[\"start_time\"] = df_history[\"endTime\"] - df_history[\"sec_played_td\"]\n",
    "\n",
    "# time-related features\n",
    "df_history[\"year\"] = df_history[\"start_time\"].dt.year\n",
    "df_history[\"month\"] = df_history[\"start_time\"].dt.month\n",
    "df_history[\"year_month\"] = df_history[\"start_time\"].dt.strftime('%Y_%m')\n",
    "df_history[\"day\"] = df_history[\"start_time\"].dt.day\n",
    "df_history[\"hour\"] = df_history[\"start_time\"].dt.hour\n",
    "df_history[\"weekday\"] = df_history[\"start_time\"].dt.weekday\n",
    "df_history[\"weekend\"] = df_history[\"weekday\"].map(lambda x: 1*(x>4))\n",
    "\n",
    "df_history.sample(5)"
   ]
  },
  {
   "cell_type": "markdown",
   "metadata": {},
   "source": [
    "### Most played band, most played song"
   ]
  },
  {
   "cell_type": "code",
   "execution_count": 14,
   "metadata": {
    "ExecuteTime": {
     "end_time": "2020-03-02T18:58:24.504652Z",
     "start_time": "2020-03-02T18:58:24.487439Z"
    }
   },
   "outputs": [
    {
     "data": {
      "text/plain": [
       "Jens Lekman            1185\n",
       "Los Ganglios            882\n",
       "Carolina Durante        780\n",
       "Rusos Blancos           776\n",
       "Los Chikos del Maiz     655\n",
       "                       ... \n",
       "Giorgio Poi               1\n",
       "Anonymous                 1\n",
       "GentleBeatz               1\n",
       "Étienne de Crécy          1\n",
       "John Powell               1\n",
       "Name: artistName, Length: 1927, dtype: int64"
      ]
     },
     "execution_count": 14,
     "metadata": {},
     "output_type": "execute_result"
    }
   ],
   "source": [
    "# value_counts returns a ordered series including the count for each category in a categorical feature\n",
    "df_history[\"artistName\"].value_counts()"
   ]
  },
  {
   "cell_type": "code",
   "execution_count": 15,
   "metadata": {
    "ExecuteTime": {
     "end_time": "2020-03-02T18:58:27.484354Z",
     "start_time": "2020-03-02T18:58:27.462681Z"
    }
   },
   "outputs": [
    {
     "data": {
      "text/plain": [
       "No Sabes Mentir                       123\n",
       "Libreros                              114\n",
       "Llorando en la Limo (feat. Alizzz)    112\n",
       "Llorando En La Limo                   105\n",
       "Cariño                                 92\n",
       "                                     ... \n",
       "Salvaje                                 1\n",
       "Ave Rapaz                               1\n",
       "Time To Go                              1\n",
       "Y Además Bastante Fea                   1\n",
       "Darts Of Pleasure                       1\n",
       "Name: trackName, Length: 7664, dtype: int64"
      ]
     },
     "execution_count": 15,
     "metadata": {},
     "output_type": "execute_result"
    }
   ],
   "source": [
    "df_history[\"trackName\"].value_counts()"
   ]
  },
  {
   "cell_type": "markdown",
   "metadata": {},
   "source": [
    "### When do I usually listen to music? "
   ]
  },
  {
   "cell_type": "code",
   "execution_count": 16,
   "metadata": {
    "ExecuteTime": {
     "end_time": "2020-03-02T19:21:23.026912Z",
     "start_time": "2020-03-02T19:21:23.003290Z"
    }
   },
   "outputs": [
    {
     "data": {
      "text/html": [
       "<div>\n",
       "<style scoped>\n",
       "    .dataframe tbody tr th:only-of-type {\n",
       "        vertical-align: middle;\n",
       "    }\n",
       "\n",
       "    .dataframe tbody tr th {\n",
       "        vertical-align: top;\n",
       "    }\n",
       "\n",
       "    .dataframe thead th {\n",
       "        text-align: right;\n",
       "    }\n",
       "</style>\n",
       "<table border=\"1\" class=\"dataframe\">\n",
       "  <thead>\n",
       "    <tr style=\"text-align: right;\">\n",
       "      <th></th>\n",
       "      <th>total_songs</th>\n",
       "    </tr>\n",
       "    <tr>\n",
       "      <th>hour</th>\n",
       "      <th></th>\n",
       "    </tr>\n",
       "  </thead>\n",
       "  <tbody>\n",
       "    <tr>\n",
       "      <th>0</th>\n",
       "      <td>155</td>\n",
       "    </tr>\n",
       "    <tr>\n",
       "      <th>1</th>\n",
       "      <td>124</td>\n",
       "    </tr>\n",
       "    <tr>\n",
       "      <th>2</th>\n",
       "      <td>105</td>\n",
       "    </tr>\n",
       "    <tr>\n",
       "      <th>3</th>\n",
       "      <td>113</td>\n",
       "    </tr>\n",
       "    <tr>\n",
       "      <th>4</th>\n",
       "      <td>128</td>\n",
       "    </tr>\n",
       "  </tbody>\n",
       "</table>\n",
       "</div>"
      ],
      "text/plain": [
       "      total_songs\n",
       "hour             \n",
       "0             155\n",
       "1             124\n",
       "2             105\n",
       "3             113\n",
       "4             128"
      ]
     },
     "execution_count": 16,
     "metadata": {},
     "output_type": "execute_result"
    }
   ],
   "source": [
    "songs_per_hour = (\n",
    "    df_history\n",
    "    .groupby(\"hour\")\n",
    "    .count()\n",
    "    [[\"endTime\"]]\n",
    "    .rename(columns={\"endTime\": \"total_songs\"})\n",
    ")\n",
    "\n",
    "songs_per_hour.head()"
   ]
  },
  {
   "cell_type": "code",
   "execution_count": 17,
   "metadata": {
    "ExecuteTime": {
     "end_time": "2020-03-02T19:21:26.429087Z",
     "start_time": "2020-03-02T19:21:26.208527Z"
    }
   },
   "outputs": [
    {
     "data": {
      "image/png": "[encoded data removed]",
      "text/plain": [
       "<Figure size 1080x432 with 1 Axes>"
      ]
     },
     "metadata": {
      "needs_background": "light"
     },
     "output_type": "display_data"
    }
   ],
   "source": [
    "plt.figure(figsize=(15,6))\n",
    "plt.plot(songs_per_hour.index, songs_per_hour[\"total_songs\"])\n",
    "plt.show()"
   ]
  },
  {
   "cell_type": "code",
   "execution_count": 203,
   "metadata": {
    "ExecuteTime": {
     "end_time": "2020-03-02T19:25:25.142596Z",
     "start_time": "2020-03-02T19:25:24.881429Z"
    }
   },
   "outputs": [
    {
     "data": {
      "image/png": "[encoded data removed]",
      "text/plain": [
       "<Figure size 1080x432 with 1 Axes>"
      ]
     },
     "metadata": {
      "needs_background": "light"
     },
     "output_type": "display_data"
    }
   ],
   "source": [
    "# weekdays vs weekends\n",
    "songs_not_weekend = (\n",
    "    df_history\n",
    "    .query(\"weekend == 0\")\n",
    "    .groupby(\"hour\")\n",
    "    .count()\n",
    "    [[\"endTime\"]]\n",
    "    .rename(columns={\"endTime\": \"total_songs\"})\n",
    ")\n",
    "\n",
    "songs_weekends = (\n",
    "    df_history\n",
    "    .query(\"weekend == 1\")\n",
    "    .groupby(\"hour\")\n",
    "    .count()\n",
    "    [[\"endTime\"]]\n",
    "    .rename(columns={\"endTime\": \"total_songs\"})\n",
    ")\n",
    "\n",
    "plt.figure(figsize=(15,6))\n",
    "plt.plot(songs_not_weekend.index, songs_not_weekend[\"total_songs\"], label=\"not weekend\")\n",
    "plt.plot(songs_weekends.index, songs_weekends[\"total_songs\"], label=\"weekends\")\n",
    "plt.legend(fontsize=16)\n",
    "plt.show()"
   ]
  },
  {
   "cell_type": "code",
   "execution_count": 18,
   "metadata": {
    "ExecuteTime": {
     "end_time": "2020-03-02T19:27:32.266792Z",
     "start_time": "2020-03-02T19:27:31.945999Z"
    }
   },
   "outputs": [
    {
     "data": {
      "image/png": "[encoded data removed]",
      "text/plain": [
       "<Figure size 1080x432 with 1 Axes>"
      ]
     },
     "metadata": {
      "needs_background": "light"
     },
     "output_type": "display_data"
    }
   ],
   "source": [
    "# per hour and per day of the week\n",
    "\n",
    "plt.figure(figsize=(15,6))\n",
    "for wkday in df_history[\"weekday\"].unique():\n",
    "    songs_weekday = (\n",
    "        df_history\n",
    "        .query(\"weekday == @wkday\")\n",
    "        .groupby(\"hour\")\n",
    "        .count()\n",
    "        [[\"endTime\"]]\n",
    "        .rename(columns={\"endTime\": \"total_songs\"})  \n",
    "    )\n",
    "    \n",
    "    plt.plot(songs_weekday.index, songs_weekday[\"total_songs\"], label=wkday)\n",
    "\n",
    "plt.legend(fontsize=16)\n",
    "plt.show()"
   ]
  },
  {
   "cell_type": "code",
   "execution_count": 19,
   "metadata": {
    "ExecuteTime": {
     "end_time": "2020-03-02T19:51:00.161264Z",
     "start_time": "2020-03-02T19:51:00.141408Z"
    }
   },
   "outputs": [
    {
     "data": {
      "text/html": [
       "<div>\n",
       "<style scoped>\n",
       "    .dataframe tbody tr th:only-of-type {\n",
       "        vertical-align: middle;\n",
       "    }\n",
       "\n",
       "    .dataframe tbody tr th {\n",
       "        vertical-align: top;\n",
       "    }\n",
       "\n",
       "    .dataframe thead th {\n",
       "        text-align: right;\n",
       "    }\n",
       "</style>\n",
       "<table border=\"1\" class=\"dataframe\">\n",
       "  <thead>\n",
       "    <tr style=\"text-align: right;\">\n",
       "      <th></th>\n",
       "      <th>endTime</th>\n",
       "      <th>artistName</th>\n",
       "      <th>trackName</th>\n",
       "      <th>msPlayed</th>\n",
       "      <th>sec_played</th>\n",
       "      <th>sec_played_td</th>\n",
       "      <th>start_time</th>\n",
       "      <th>year</th>\n",
       "      <th>month</th>\n",
       "      <th>year_month</th>\n",
       "      <th>day</th>\n",
       "      <th>hour</th>\n",
       "      <th>weekday</th>\n",
       "      <th>weekend</th>\n",
       "      <th>day_period</th>\n",
       "    </tr>\n",
       "  </thead>\n",
       "  <tbody>\n",
       "    <tr>\n",
       "      <th>26606</th>\n",
       "      <td>2019-11-06 20:07:00</td>\n",
       "      <td>Wolfgang Amadeus Mozart</td>\n",
       "      <td>Clarinet Concerto in A Major, K. 622: I. Allegro</td>\n",
       "      <td>8359</td>\n",
       "      <td>8</td>\n",
       "      <td>00:00:08</td>\n",
       "      <td>2019-11-06 20:06:52</td>\n",
       "      <td>2019</td>\n",
       "      <td>11</td>\n",
       "      <td>2019_11</td>\n",
       "      <td>6</td>\n",
       "      <td>20</td>\n",
       "      <td>2</td>\n",
       "      <td>0</td>\n",
       "      <td>evening</td>\n",
       "    </tr>\n",
       "    <tr>\n",
       "      <th>24031</th>\n",
       "      <td>2019-10-05 14:08:00</td>\n",
       "      <td>Phillipa Soo</td>\n",
       "      <td>Helpless</td>\n",
       "      <td>82004</td>\n",
       "      <td>82</td>\n",
       "      <td>00:01:22</td>\n",
       "      <td>2019-10-05 14:06:38</td>\n",
       "      <td>2019</td>\n",
       "      <td>10</td>\n",
       "      <td>2019_10</td>\n",
       "      <td>5</td>\n",
       "      <td>14</td>\n",
       "      <td>5</td>\n",
       "      <td>1</td>\n",
       "      <td>morning</td>\n",
       "    </tr>\n",
       "    <tr>\n",
       "      <th>23572</th>\n",
       "      <td>2019-09-28 16:29:00</td>\n",
       "      <td>Father John Misty</td>\n",
       "      <td>Pure Comedy</td>\n",
       "      <td>172871</td>\n",
       "      <td>173</td>\n",
       "      <td>00:02:53</td>\n",
       "      <td>2019-09-28 16:26:07</td>\n",
       "      <td>2019</td>\n",
       "      <td>9</td>\n",
       "      <td>2019_09</td>\n",
       "      <td>28</td>\n",
       "      <td>16</td>\n",
       "      <td>5</td>\n",
       "      <td>1</td>\n",
       "      <td>afternoon</td>\n",
       "    </tr>\n",
       "    <tr>\n",
       "      <th>15465</th>\n",
       "      <td>2019-06-20 16:30:00</td>\n",
       "      <td>Pulp</td>\n",
       "      <td>Love Is Blind (Live)</td>\n",
       "      <td>3552</td>\n",
       "      <td>4</td>\n",
       "      <td>00:00:04</td>\n",
       "      <td>2019-06-20 16:29:56</td>\n",
       "      <td>2019</td>\n",
       "      <td>6</td>\n",
       "      <td>2019_06</td>\n",
       "      <td>20</td>\n",
       "      <td>16</td>\n",
       "      <td>3</td>\n",
       "      <td>0</td>\n",
       "      <td>afternoon</td>\n",
       "    </tr>\n",
       "    <tr>\n",
       "      <th>27542</th>\n",
       "      <td>2019-11-24 17:45:00</td>\n",
       "      <td>Tribade</td>\n",
       "      <td>Mujeres</td>\n",
       "      <td>226250</td>\n",
       "      <td>226</td>\n",
       "      <td>00:03:46</td>\n",
       "      <td>2019-11-24 17:41:14</td>\n",
       "      <td>2019</td>\n",
       "      <td>11</td>\n",
       "      <td>2019_11</td>\n",
       "      <td>24</td>\n",
       "      <td>17</td>\n",
       "      <td>6</td>\n",
       "      <td>1</td>\n",
       "      <td>afternoon</td>\n",
       "    </tr>\n",
       "  </tbody>\n",
       "</table>\n",
       "</div>"
      ],
      "text/plain": [
       "                  endTime               artistName  \\\n",
       "26606 2019-11-06 20:07:00  Wolfgang Amadeus Mozart   \n",
       "24031 2019-10-05 14:08:00             Phillipa Soo   \n",
       "23572 2019-09-28 16:29:00        Father John Misty   \n",
       "15465 2019-06-20 16:30:00                     Pulp   \n",
       "27542 2019-11-24 17:45:00                  Tribade   \n",
       "\n",
       "                                              trackName  msPlayed  sec_played  \\\n",
       "26606  Clarinet Concerto in A Major, K. 622: I. Allegro      8359           8   \n",
       "24031                                          Helpless     82004          82   \n",
       "23572                                       Pure Comedy    172871         173   \n",
       "15465                              Love Is Blind (Live)      3552           4   \n",
       "27542                                           Mujeres    226250         226   \n",
       "\n",
       "      sec_played_td          start_time  year  month year_month  day  hour  \\\n",
       "26606      00:00:08 2019-11-06 20:06:52  2019     11    2019_11    6    20   \n",
       "24031      00:01:22 2019-10-05 14:06:38  2019     10    2019_10    5    14   \n",
       "23572      00:02:53 2019-09-28 16:26:07  2019      9    2019_09   28    16   \n",
       "15465      00:00:04 2019-06-20 16:29:56  2019      6    2019_06   20    16   \n",
       "27542      00:03:46 2019-11-24 17:41:14  2019     11    2019_11   24    17   \n",
       "\n",
       "       weekday  weekend day_period  \n",
       "26606        2        0    evening  \n",
       "24031        5        1    morning  \n",
       "23572        5        1  afternoon  \n",
       "15465        3        0  afternoon  \n",
       "27542        6        1  afternoon  "
      ]
     },
     "execution_count": 19,
     "metadata": {},
     "output_type": "execute_result"
    }
   ],
   "source": [
    "# convert hour to category: night, morning, afternoon, evening\n",
    "\n",
    "df_history[\"day_period\"] = pd.cut(\n",
    "    df_history[\"hour\"], \n",
    "    bins=[0, 6, 14, 18, 24],\n",
    "    labels=[\"night\", \"morning\", \"afternoon\", \"evening\"]\n",
    ")\n",
    "\n",
    "df_history.sample(5)"
   ]
  },
  {
   "cell_type": "code",
   "execution_count": 20,
   "metadata": {
    "ExecuteTime": {
     "end_time": "2020-03-02T19:51:34.148409Z",
     "start_time": "2020-03-02T19:51:34.124834Z"
    }
   },
   "outputs": [
    {
     "data": {
      "text/plain": [
       "day_period\n",
       "night         2178\n",
       "morning      15895\n",
       "afternoon     9226\n",
       "evening       2712\n",
       "Name: endTime, dtype: int64"
      ]
     },
     "execution_count": 20,
     "metadata": {},
     "output_type": "execute_result"
    }
   ],
   "source": [
    "df_history.groupby(\"day_period\").count()[\"endTime\"]"
   ]
  },
  {
   "cell_type": "markdown",
   "metadata": {},
   "source": [
    "### Evolution of played songs during the year"
   ]
  },
  {
   "cell_type": "code",
   "execution_count": 21,
   "metadata": {
    "ExecuteTime": {
     "end_time": "2020-03-02T18:59:20.707738Z",
     "start_time": "2020-03-02T18:59:20.180228Z"
    }
   },
   "outputs": [
    {
     "data": {
      "text/plain": [
       "<matplotlib.axes._subplots.AxesSubplot at 0x1258aef50>"
      ]
     },
     "execution_count": 21,
     "metadata": {},
     "output_type": "execute_result"
    },
    {
     "data": {
      "image/png": "[encoded data removed]",
      "text/plain": [
       "<Figure size 432x288 with 1 Axes>"
      ]
     },
     "metadata": {
      "needs_background": "light"
     },
     "output_type": "display_data"
    }
   ],
   "source": [
    "df_history.groupby(\"year_month\").count()[[\"endTime\"]].plot()"
   ]
  },
  {
   "cell_type": "markdown",
   "metadata": {},
   "source": [
    "### Acummulated time listening to music"
   ]
  },
  {
   "cell_type": "code",
   "execution_count": 22,
   "metadata": {
    "ExecuteTime": {
     "end_time": "2020-03-02T19:55:56.943631Z",
     "start_time": "2020-03-02T19:55:56.925949Z"
    }
   },
   "outputs": [
    {
     "data": {
      "text/html": [
       "<div>\n",
       "<style scoped>\n",
       "    .dataframe tbody tr th:only-of-type {\n",
       "        vertical-align: middle;\n",
       "    }\n",
       "\n",
       "    .dataframe tbody tr th {\n",
       "        vertical-align: top;\n",
       "    }\n",
       "\n",
       "    .dataframe thead th {\n",
       "        text-align: right;\n",
       "    }\n",
       "</style>\n",
       "<table border=\"1\" class=\"dataframe\">\n",
       "  <thead>\n",
       "    <tr style=\"text-align: right;\">\n",
       "      <th></th>\n",
       "      <th>endTime</th>\n",
       "      <th>artistName</th>\n",
       "      <th>trackName</th>\n",
       "      <th>msPlayed</th>\n",
       "      <th>sec_played</th>\n",
       "      <th>sec_played_td</th>\n",
       "      <th>start_time</th>\n",
       "      <th>year</th>\n",
       "      <th>month</th>\n",
       "      <th>year_month</th>\n",
       "      <th>day</th>\n",
       "      <th>hour</th>\n",
       "      <th>weekday</th>\n",
       "      <th>weekend</th>\n",
       "      <th>day_period</th>\n",
       "      <th>accum_play_time</th>\n",
       "    </tr>\n",
       "  </thead>\n",
       "  <tbody>\n",
       "    <tr>\n",
       "      <th>0</th>\n",
       "      <td>2018-12-29 13:29:00</td>\n",
       "      <td>Jeff Buckley</td>\n",
       "      <td>Everybody Here Wants You</td>\n",
       "      <td>195299</td>\n",
       "      <td>195</td>\n",
       "      <td>00:03:15</td>\n",
       "      <td>2018-12-29 13:25:45</td>\n",
       "      <td>2018</td>\n",
       "      <td>12</td>\n",
       "      <td>2018_12</td>\n",
       "      <td>29</td>\n",
       "      <td>13</td>\n",
       "      <td>5</td>\n",
       "      <td>1</td>\n",
       "      <td>morning</td>\n",
       "      <td>195</td>\n",
       "    </tr>\n",
       "    <tr>\n",
       "      <th>1</th>\n",
       "      <td>2018-12-29 13:33:00</td>\n",
       "      <td>Future Islands</td>\n",
       "      <td>Time On Her Side</td>\n",
       "      <td>218506</td>\n",
       "      <td>219</td>\n",
       "      <td>00:03:39</td>\n",
       "      <td>2018-12-29 13:29:21</td>\n",
       "      <td>2018</td>\n",
       "      <td>12</td>\n",
       "      <td>2018_12</td>\n",
       "      <td>29</td>\n",
       "      <td>13</td>\n",
       "      <td>5</td>\n",
       "      <td>1</td>\n",
       "      <td>morning</td>\n",
       "      <td>414</td>\n",
       "    </tr>\n",
       "    <tr>\n",
       "      <th>2</th>\n",
       "      <td>2018-12-29 13:35:00</td>\n",
       "      <td>The Whitest Boy Alive</td>\n",
       "      <td>Burning</td>\n",
       "      <td>144044</td>\n",
       "      <td>144</td>\n",
       "      <td>00:02:24</td>\n",
       "      <td>2018-12-29 13:32:36</td>\n",
       "      <td>2018</td>\n",
       "      <td>12</td>\n",
       "      <td>2018_12</td>\n",
       "      <td>29</td>\n",
       "      <td>13</td>\n",
       "      <td>5</td>\n",
       "      <td>1</td>\n",
       "      <td>morning</td>\n",
       "      <td>558</td>\n",
       "    </tr>\n",
       "    <tr>\n",
       "      <th>3</th>\n",
       "      <td>2018-12-29 13:36:00</td>\n",
       "      <td>The Whitest Boy Alive</td>\n",
       "      <td>Burning</td>\n",
       "      <td>47144</td>\n",
       "      <td>47</td>\n",
       "      <td>00:00:47</td>\n",
       "      <td>2018-12-29 13:35:13</td>\n",
       "      <td>2018</td>\n",
       "      <td>12</td>\n",
       "      <td>2018_12</td>\n",
       "      <td>29</td>\n",
       "      <td>13</td>\n",
       "      <td>5</td>\n",
       "      <td>1</td>\n",
       "      <td>morning</td>\n",
       "      <td>605</td>\n",
       "    </tr>\n",
       "    <tr>\n",
       "      <th>4</th>\n",
       "      <td>2018-12-29 13:41:00</td>\n",
       "      <td>Cut Copy</td>\n",
       "      <td>Take Me Over</td>\n",
       "      <td>248289</td>\n",
       "      <td>248</td>\n",
       "      <td>00:04:08</td>\n",
       "      <td>2018-12-29 13:36:52</td>\n",
       "      <td>2018</td>\n",
       "      <td>12</td>\n",
       "      <td>2018_12</td>\n",
       "      <td>29</td>\n",
       "      <td>13</td>\n",
       "      <td>5</td>\n",
       "      <td>1</td>\n",
       "      <td>morning</td>\n",
       "      <td>853</td>\n",
       "    </tr>\n",
       "  </tbody>\n",
       "</table>\n",
       "</div>"
      ],
      "text/plain": [
       "              endTime             artistName                 trackName  \\\n",
       "0 2018-12-29 13:29:00           Jeff Buckley  Everybody Here Wants You   \n",
       "1 2018-12-29 13:33:00         Future Islands          Time On Her Side   \n",
       "2 2018-12-29 13:35:00  The Whitest Boy Alive                   Burning   \n",
       "3 2018-12-29 13:36:00  The Whitest Boy Alive                   Burning   \n",
       "4 2018-12-29 13:41:00               Cut Copy              Take Me Over   \n",
       "\n",
       "   msPlayed  sec_played sec_played_td          start_time  year  month  \\\n",
       "0    195299         195      00:03:15 2018-12-29 13:25:45  2018     12   \n",
       "1    218506         219      00:03:39 2018-12-29 13:29:21  2018     12   \n",
       "2    144044         144      00:02:24 2018-12-29 13:32:36  2018     12   \n",
       "3     47144          47      00:00:47 2018-12-29 13:35:13  2018     12   \n",
       "4    248289         248      00:04:08 2018-12-29 13:36:52  2018     12   \n",
       "\n",
       "  year_month  day  hour  weekday  weekend day_period  accum_play_time  \n",
       "0    2018_12   29    13        5        1    morning              195  \n",
       "1    2018_12   29    13        5        1    morning              414  \n",
       "2    2018_12   29    13        5        1    morning              558  \n",
       "3    2018_12   29    13        5        1    morning              605  \n",
       "4    2018_12   29    13        5        1    morning              853  "
      ]
     },
     "execution_count": 22,
     "metadata": {},
     "output_type": "execute_result"
    }
   ],
   "source": [
    "df_history[\"accum_play_time\"] = df_history[\"sec_played\"].cumsum()\n",
    "\n",
    "df_history.head()"
   ]
  },
  {
   "cell_type": "code",
   "execution_count": 243,
   "metadata": {
    "ExecuteTime": {
     "end_time": "2020-03-02T19:58:46.548152Z",
     "start_time": "2020-03-02T19:58:46.542330Z"
    }
   },
   "outputs": [
    {
     "name": "stdout",
     "output_type": "stream",
     "text": [
      "total time: 1240 hours and 56 minutes\n"
     ]
    }
   ],
   "source": [
    "total_time = df_history.tail(1)[\"accum_play_time\"].values[0]\n",
    "\n",
    "total_hours = total_time // 3600\n",
    "total_minutes = (total_time - total_hours * 3600) // 60\n",
    "\n",
    "print(f\"total time: {total_hours} hours and {total_minutes} minutes\")"
   ]
  },
  {
   "cell_type": "markdown",
   "metadata": {},
   "source": [
    "### Distribution of my listening time"
   ]
  },
  {
   "cell_type": "code",
   "execution_count": 23,
   "metadata": {
    "ExecuteTime": {
     "end_time": "2020-03-02T19:05:37.363624Z",
     "start_time": "2020-03-02T19:05:37.087121Z"
    }
   },
   "outputs": [
    {
     "data": {
      "image/png": "[encoded data removed]",
      "text/plain": [
       "<Figure size 1080x432 with 1 Axes>"
      ]
     },
     "metadata": {
      "needs_background": "light"
     },
     "output_type": "display_data"
    }
   ],
   "source": [
    "mean_listening_time = df_history[\"sec_played\"].mean()\n",
    "median_listening_time = df_history[\"sec_played\"].median()\n",
    "\n",
    "plt.figure(figsize=(15, 6))\n",
    "plt.hist(df_history[\"sec_played\"], bins=50)\n",
    "plt.axvline(mean_listening_time, c=\"red\")\n",
    "plt.axvline(median_listening_time, c=\"green\")\n",
    "plt.show()"
   ]
  },
  {
   "cell_type": "code",
   "execution_count": 24,
   "metadata": {
    "ExecuteTime": {
     "end_time": "2020-03-02T19:07:09.671178Z",
     "start_time": "2020-03-02T19:07:09.288838Z"
    }
   },
   "outputs": [
    {
     "data": {
      "image/png": "[encoded data removed]",
      "text/plain": [
       "<Figure size 1080x432 with 1 Axes>"
      ]
     },
     "metadata": {
      "needs_background": "light"
     },
     "output_type": "display_data"
    }
   ],
   "source": [
    "# let's filter those songs that I listen for less than 30 s\n",
    "listened_m30s = df_history.query(\"sec_played >= 30\")\n",
    "mean_listening_time_m30 = listened_m30s[\"sec_played\"].mean()\n",
    "median_listening_time_m30 = listened_m30s[\"sec_played\"].median()\n",
    "\n",
    "plt.figure(figsize=(15, 6))\n",
    "plt.hist(listened_m30s[\"sec_played\"], bins=50)\n",
    "plt.axvline(mean_listening_time_m30, c=\"red\")\n",
    "plt.axvline(median_listening_time_m30, c=\"green\")\n",
    "plt.show()"
   ]
  },
  {
   "cell_type": "markdown",
   "metadata": {},
   "source": []
  },
  {
   "cell_type": "code",
   "execution_count": null,
   "metadata": {},
   "outputs": [],
   "source": []
  }
 ],
 "metadata": {
  "kernelspec": {
   "display_name": "Python 3",
   "language": "python",
   "name": "python3"
  },
  "language_info": {
   "codemirror_mode": {
    "name": "ipython",
    "version": 3
   },
   "file_extension": ".py",
   "mimetype": "text/x-python",
   "name": "python",
   "nbconvert_exporter": "python",
   "pygments_lexer": "ipython3",
   "version": "3.7.4"
  },
  "toc": {
   "base_numbering": 1,
   "nav_menu": {},
   "number_sections": true,
   "sideBar": true,
   "skip_h1_title": false,
   "title_cell": "Table of Contents",
   "title_sidebar": "Contents",
   "toc_cell": false,
   "toc_position": {},
   "toc_section_display": true,
   "toc_window_display": false
  }
 },
 "nbformat": 4,
 "nbformat_minor": 2
}
